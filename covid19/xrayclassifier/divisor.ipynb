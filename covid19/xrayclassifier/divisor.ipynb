{
 "cells": [
  {
   "cell_type": "code",
   "execution_count": 1,
   "metadata": {},
   "outputs": [],
   "source": [
    "#Cargo librerias\n",
    "from os import listdir\n",
    "import shutil\n",
    "import os\n",
    "import pandas as pd\n",
    "import random as rd"
   ]
  },
  {
   "cell_type": "code",
   "execution_count": 2,
   "metadata": {},
   "outputs": [],
   "source": [
    "#defino mi ruta de trabajo\n",
    "ruta=r\"covid2/\""
   ]
  },
  {
   "cell_type": "code",
   "execution_count": 3,
   "metadata": {},
   "outputs": [],
   "source": [
    "#Cargo el archivo metadata.csv en un dataframe para poder leerlo\n",
    "file=pd.read_csv(ruta + \"metadata.csv\")"
   ]
  },
  {
   "cell_type": "code",
   "execution_count": 4,
   "metadata": {},
   "outputs": [],
   "source": [
    "folders=['covid','noCovid','ct']\n",
    "\n",
    "train=.70\n",
    "validation=.15\n",
    "test=.15"
   ]
  },
  {
   "cell_type": "code",
   "execution_count": 5,
   "metadata": {},
   "outputs": [],
   "source": [
    "fileClean=file[file['modality']==\"X-ray\"]"
   ]
  },
  {
   "cell_type": "code",
   "execution_count": 6,
   "metadata": {},
   "outputs": [],
   "source": [
    "def partition(length,part1,part2,part3):\n",
    "    lista=list(range(length))\n",
    "    rd.shuffle(lista)\n",
    "    pos1=lista[:int(length*part1)]\n",
    "    pos2=lista[int(length*part1):int(length*part1)+int(length*part2)]\n",
    "    pos3=lista[int(length*part1)+int(length*part2):]\n",
    "    \n",
    "    return [pos1,pos2,pos3]"
   ]
  },
  {
   "cell_type": "code",
   "execution_count": 7,
   "metadata": {},
   "outputs": [],
   "source": [
    "def createPartitions(ruta,name,file,train,validation,test,index):\n",
    "    ruta1=ruta+\"\"+name\n",
    "    if not os.path.exists(ruta1):\n",
    "        os.mkdir(ruta1)\n",
    "    if not os.path.exists(ruta1+\"/\"+\"covid\"):\n",
    "        os.mkdir(ruta1+\"/\"+\"covid\")\n",
    "    if not os.path.exists(ruta1):\n",
    "        os.mkdir(ruta1)\n",
    "    if not os.path.exists(ruta1+\"/\"+\"noCovid\"):\n",
    "        os.mkdir(ruta1+\"/\"+\"noCovid\")\n",
    "            \n",
    "    fileCovid=file[file['finding']==\"COVID-19\"]\n",
    "    pos=partition(len(fileCovid),train,validation,test)\n",
    "    imagesCovid=fileCovid['filename']\n",
    "    \n",
    "    for i,image in enumerate(imagesCovid):\n",
    "        if i in pos[index]:\n",
    "                shutil.copy(ruta+\"/images/\"+image, ruta1+r\"/covid\")\n",
    "\n",
    "    fileNoCovid=file[file['finding']!=\"COVID-19\"]\n",
    "    pos=partition(len(fileNoCovid),train,validation,test)\n",
    "    imagesNoCovid=fileNoCovid['filename']\n",
    "    \n",
    "    for i,image in enumerate(imagesNoCovid):\n",
    "        if i in pos[index]:\n",
    "                shutil.copy(ruta+\"/images/\"+image, ruta1+r\"/noCovid\")"
   ]
  },
  {
   "cell_type": "code",
   "execution_count": 8,
   "metadata": {},
   "outputs": [],
   "source": [
    "#validate if there are already the three main folders\n",
    "def createFolder(ruta,folders):\n",
    "    for folder in folders:\n",
    "        if not os.path.exists(ruta+\"dataset/\"+folder):\n",
    "            os.mkdir(ruta+\"dataset/\"+folder)"
   ]
  },
  {
   "cell_type": "code",
   "execution_count": 9,
   "metadata": {},
   "outputs": [],
   "source": [
    "#split images in covid, noCovid and ct\n",
    "def createCovid(ruta,file):\n",
    "    file1=file[(file['finding']==\"COVID-19\") & (file['modality']=='X-ray')]\n",
    "    types=file1['view']\n",
    "    for i,row in file1.iterrows():\n",
    "            shutil.copy(ruta+\"/images/\"+row['filename'], ruta+r\"dataset/covid\")\n",
    "\n",
    "    for tipo in types:\n",
    "        if not os.path.exists(ruta+r\"dataset/covid_\"+tipo):\n",
    "            os.mkdir(ruta+r\"dataset/covid_\"+tipo)\n",
    "        images=file1[file1['view']==tipo]['filename']\n",
    "        for image in images:\n",
    "            shutil.copy(ruta+\"/images/\"+image, ruta+r\"dataset/covid_\"+tipo)"
   ]
  },
  {
   "cell_type": "code",
   "execution_count": 10,
   "metadata": {},
   "outputs": [],
   "source": [
    "def createNoCovid(ruta,file):    \n",
    "    file1=file[(file['finding']!=\"COVID-19\") & (file['modality']=='X-ray')]\n",
    "    types=file1['view']\n",
    "    for i,row in file1.iterrows():\n",
    "            shutil.copy(ruta+\"/images/\"+row['filename'], ruta+r\"dataset/noCovid\")\n",
    "\n",
    "    for tipo in types:\n",
    "        if not os.path.exists(ruta+r\"dataset/noCovid_\"+tipo):\n",
    "            os.mkdir(ruta+r\"dataset/noCovid_\"+tipo)\n",
    "        images=file1[file['view']==tipo]['filename']\n",
    "        for image in images:\n",
    "            shutil.copy(ruta+\"/images/\"+image, ruta+r\"dataset/noCovid_\"+tipo)"
   ]
  },
  {
   "cell_type": "code",
   "execution_count": 11,
   "metadata": {},
   "outputs": [],
   "source": [
    "def createOthers(ruta,file):\n",
    "    file1=file[file['modality']!=\"X-ray\"]\n",
    "    for i,row in file1.iterrows():\n",
    "        shutil.copy(ruta+\"/images/\"+row['filename'], ruta+r\"dataset/ct\")"
   ]
  },
  {
   "cell_type": "code",
   "execution_count": 12,
   "metadata": {},
   "outputs": [],
   "source": [
    "createFolder(ruta,folders)"
   ]
  },
  {
   "cell_type": "code",
   "execution_count": 13,
   "metadata": {},
   "outputs": [],
   "source": [
    "createCovid(ruta,file)"
   ]
  },
  {
   "cell_type": "code",
   "execution_count": 14,
   "metadata": {},
   "outputs": [
    {
     "name": "stderr",
     "output_type": "stream",
     "text": [
      "/home/christian/anaconda3/envs/Pythorch/lib/python3.7/site-packages/ipykernel_launcher.py:10: UserWarning: Boolean Series key will be reindexed to match DataFrame index.\n",
      "  # Remove the CWD from sys.path while we load stuff.\n"
     ]
    }
   ],
   "source": [
    "createNoCovid(ruta,file)"
   ]
  },
  {
   "cell_type": "code",
   "execution_count": 15,
   "metadata": {},
   "outputs": [],
   "source": [
    "createOthers(ruta,file)"
   ]
  },
  {
   "cell_type": "code",
   "execution_count": 16,
   "metadata": {},
   "outputs": [],
   "source": [
    "createPartitions(ruta,\"train\",fileClean,train,validation,test,0)"
   ]
  },
  {
   "cell_type": "code",
   "execution_count": 17,
   "metadata": {},
   "outputs": [],
   "source": [
    "createPartitions(ruta,\"validation\",fileClean,train,validation,test,1)"
   ]
  },
  {
   "cell_type": "code",
   "execution_count": 18,
   "metadata": {},
   "outputs": [],
   "source": [
    "createPartitions(ruta,\"test\",fileClean,train,validation,test,2)"
   ]
  },
  {
   "cell_type": "code",
   "execution_count": null,
   "metadata": {},
   "outputs": [],
   "source": []
  }
 ],
 "metadata": {
  "kernelspec": {
   "display_name": "Python 3",
   "language": "python",
   "name": "python3"
  },
  "language_info": {
   "codemirror_mode": {
    "name": "ipython",
    "version": 3
   },
   "file_extension": ".py",
   "mimetype": "text/x-python",
   "name": "python",
   "nbconvert_exporter": "python",
   "pygments_lexer": "ipython3",
   "version": "3.7.6"
  }
 },
 "nbformat": 4,
 "nbformat_minor": 2
}
